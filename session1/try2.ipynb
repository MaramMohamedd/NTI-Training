{
 "cells": [
  {
   "cell_type": "code",
   "execution_count": 2,
   "id": "d5e01f18",
   "metadata": {},
   "outputs": [],
   "source": [
    "import cv2 "
   ]
  },
  {
   "cell_type": "code",
   "execution_count": 3,
   "id": "77c3aeba",
   "metadata": {},
   "outputs": [],
   "source": [
    "#Open CV \n",
    "import cv2 \n",
    "image = cv2.imread(\"D:\\\\Documents\\\\NTI training\\\\session1\\\\bookimg3.jpg\")\n",
    "cv2.imshow(\"image :\" , image)\n",
    "cv2.waitKey(0)\n",
    "cv2.destroyAllWindows()\n",
    "#cv2.imwrite(\"saved image\" , image)-> save the image \n",
    "\n",
    "#resized \n",
    "resized = cv2.resize(image , (500 ,500))\n",
    "cv2.imshow(\"resized \" ,resized)\n",
    "cv2.waitKey(0)\n",
    "cv2.destroyAllWindows()\n",
    "\n",
    "#Converted to grey\n",
    "gray_scale = cv2.cvtColor(resized, cv2.COLOR_RGB2GRAY) \n",
    "cv2.imshow(\"gray\" , gray_scale)\n",
    "cv2.waitKey(0)\n",
    "cv2.destroyAllWindows()"
   ]
  },
  {
   "cell_type": "code",
   "execution_count": 4,
   "id": "0a12b5ac",
   "metadata": {},
   "outputs": [],
   "source": [
    "image = resized"
   ]
  },
  {
   "cell_type": "code",
   "execution_count": 5,
   "id": "784773ea",
   "metadata": {},
   "outputs": [
    {
     "data": {
      "text/plain": [
       "array([[[230, 225, 226],\n",
       "        [230, 225, 226],\n",
       "        [230, 225, 226],\n",
       "        ...,\n",
       "        [ 69,  80,  88],\n",
       "        [ 69,  80,  88],\n",
       "        [ 69,  80,  88]],\n",
       "\n",
       "       [[230, 225, 226],\n",
       "        [230, 225, 226],\n",
       "        [230, 225, 226],\n",
       "        ...,\n",
       "        [ 69,  80,  88],\n",
       "        [ 69,  80,  88],\n",
       "        [ 69,  80,  88]],\n",
       "\n",
       "       [[229, 224, 225],\n",
       "        [229, 224, 225],\n",
       "        [229, 224, 225],\n",
       "        ...,\n",
       "        [ 69,  80,  88],\n",
       "        [ 69,  80,  88],\n",
       "        [ 69,  80,  88]],\n",
       "\n",
       "       ...,\n",
       "\n",
       "       [[127, 122, 137],\n",
       "        [127, 122, 137],\n",
       "        [127, 122, 137],\n",
       "        ...,\n",
       "        [ 77, 140, 198],\n",
       "        [ 77, 140, 198],\n",
       "        [ 77, 140, 198]],\n",
       "\n",
       "       [[127, 122, 137],\n",
       "        [127, 122, 137],\n",
       "        [127, 122, 137],\n",
       "        ...,\n",
       "        [ 78, 141, 199],\n",
       "        [ 78, 141, 199],\n",
       "        [ 78, 141, 199]],\n",
       "\n",
       "       [[127, 122, 137],\n",
       "        [127, 122, 137],\n",
       "        [127, 122, 137],\n",
       "        ...,\n",
       "        [ 78, 141, 199],\n",
       "        [ 78, 141, 199],\n",
       "        [ 78, 141, 199]]], dtype=uint8)"
      ]
     },
     "execution_count": 5,
     "metadata": {},
     "output_type": "execute_result"
    }
   ],
   "source": [
    "cv2.rectangle (image ,(50 ,50) ,(150 , 150) , (0,255,0) , 2 )"
   ]
  },
  {
   "cell_type": "code",
   "execution_count": 11,
   "id": "d79e6ba8",
   "metadata": {},
   "outputs": [
    {
     "data": {
      "text/plain": [
       "array([[[230, 225, 226],\n",
       "        [230, 225, 226],\n",
       "        [230, 225, 226],\n",
       "        ...,\n",
       "        [ 69,  80,  88],\n",
       "        [ 69,  80,  88],\n",
       "        [ 69,  80,  88]],\n",
       "\n",
       "       [[230, 225, 226],\n",
       "        [230, 225, 226],\n",
       "        [230, 225, 226],\n",
       "        ...,\n",
       "        [ 69,  80,  88],\n",
       "        [ 69,  80,  88],\n",
       "        [ 69,  80,  88]],\n",
       "\n",
       "       [[229, 224, 225],\n",
       "        [229, 224, 225],\n",
       "        [229, 224, 225],\n",
       "        ...,\n",
       "        [ 69,  80,  88],\n",
       "        [ 69,  80,  88],\n",
       "        [ 69,  80,  88]],\n",
       "\n",
       "       ...,\n",
       "\n",
       "       [[127, 122, 137],\n",
       "        [127, 122, 137],\n",
       "        [127, 122, 137],\n",
       "        ...,\n",
       "        [ 77, 140, 198],\n",
       "        [ 77, 140, 198],\n",
       "        [ 77, 140, 198]],\n",
       "\n",
       "       [[127, 122, 137],\n",
       "        [127, 122, 137],\n",
       "        [127, 122, 137],\n",
       "        ...,\n",
       "        [ 78, 141, 199],\n",
       "        [ 78, 141, 199],\n",
       "        [ 78, 141, 199]],\n",
       "\n",
       "       [[127, 122, 137],\n",
       "        [127, 122, 137],\n",
       "        [127, 122, 137],\n",
       "        ...,\n",
       "        [ 78, 141, 199],\n",
       "        [ 78, 141, 199],\n",
       "        [ 78, 141, 199]]], dtype=uint8)"
      ]
     },
     "execution_count": 11,
     "metadata": {},
     "output_type": "execute_result"
    }
   ],
   "source": [
    "cv2.circle(image ,(100 ,100),40 , (255 ,0 , 0),-1)"
   ]
  },
  {
   "cell_type": "code",
   "execution_count": 12,
   "id": "bd001d58",
   "metadata": {},
   "outputs": [
    {
     "data": {
      "text/plain": [
       "array([[[230, 225, 226],\n",
       "        [230, 225, 226],\n",
       "        [230, 225, 226],\n",
       "        ...,\n",
       "        [ 69,  80,  88],\n",
       "        [ 69,  80,  88],\n",
       "        [ 69,  80,  88]],\n",
       "\n",
       "       [[230, 225, 226],\n",
       "        [230, 225, 226],\n",
       "        [230, 225, 226],\n",
       "        ...,\n",
       "        [ 69,  80,  88],\n",
       "        [ 69,  80,  88],\n",
       "        [ 69,  80,  88]],\n",
       "\n",
       "       [[229, 224, 225],\n",
       "        [229, 224, 225],\n",
       "        [229, 224, 225],\n",
       "        ...,\n",
       "        [ 69,  80,  88],\n",
       "        [ 69,  80,  88],\n",
       "        [ 69,  80,  88]],\n",
       "\n",
       "       ...,\n",
       "\n",
       "       [[127, 122, 137],\n",
       "        [127, 122, 137],\n",
       "        [127, 122, 137],\n",
       "        ...,\n",
       "        [ 77, 140, 198],\n",
       "        [ 77, 140, 198],\n",
       "        [ 77, 140, 198]],\n",
       "\n",
       "       [[127, 122, 137],\n",
       "        [127, 122, 137],\n",
       "        [127, 122, 137],\n",
       "        ...,\n",
       "        [ 78, 141, 199],\n",
       "        [ 78, 141, 199],\n",
       "        [ 78, 141, 199]],\n",
       "\n",
       "       [[127, 122, 137],\n",
       "        [127, 122, 137],\n",
       "        [127, 122, 137],\n",
       "        ...,\n",
       "        [ 78, 141, 199],\n",
       "        [ 78, 141, 199],\n",
       "        [ 78, 141, 199]]], dtype=uint8)"
      ]
     },
     "execution_count": 12,
     "metadata": {},
     "output_type": "execute_result"
    }
   ],
   "source": [
    "cv2.putText(image, \"hello\" , (10 , 250) , cv2.FONT_HERSHEY_SIMPLEX , 1, (255,255,255) , 1)"
   ]
  },
  {
   "cell_type": "code",
   "execution_count": null,
   "id": "eb8e35cd",
   "metadata": {},
   "outputs": [
    {
     "ename": "",
     "evalue": "",
     "output_type": "error",
     "traceback": [
      "\u001b[1;31mThe Kernel crashed while executing code in the current cell or a previous cell. \n",
      "\u001b[1;31mPlease review the code in the cell(s) to identify a possible cause of the failure. \n",
      "\u001b[1;31mClick <a href='https://aka.ms/vscodeJupyterKernelCrash'>here</a> for more info. \n",
      "\u001b[1;31mView Jupyter <a href='command:jupyter.viewOutput'>log</a> for further details."
     ]
    }
   ],
   "source": [
    "cropped = image[50:200 , 50 :200]\n",
    "cv2.imshow(\"image\" , cropped)"
   ]
  }
 ],
 "metadata": {
  "kernelspec": {
   "display_name": "Python 3",
   "language": "python",
   "name": "python3"
  },
  "language_info": {
   "codemirror_mode": {
    "name": "ipython",
    "version": 3
   },
   "file_extension": ".py",
   "mimetype": "text/x-python",
   "name": "python",
   "nbconvert_exporter": "python",
   "pygments_lexer": "ipython3",
   "version": "3.12.2"
  }
 },
 "nbformat": 4,
 "nbformat_minor": 5
}
