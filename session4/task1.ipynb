{
 "cells": [
  {
   "cell_type": "markdown",
   "id": "7978b71a",
   "metadata": {},
   "source": [
    "### ***Activation Functions*** "
   ]
  },
  {
   "cell_type": "code",
   "execution_count": 1,
   "id": "86f1641b",
   "metadata": {},
   "outputs": [],
   "source": [
    "import numpy as np"
   ]
  },
  {
   "cell_type": "code",
   "execution_count": 2,
   "id": "fdd85319",
   "metadata": {},
   "outputs": [],
   "source": [
    "def sigmoid(x):\n",
    "    return 1 / (1 + np.exp(-x))\n",
    "\n",
    "def  softmax (x):\n",
    "    ex = np.exp(x - np.max(x))\n",
    "    return ex / np.sum(ex , axis = -1 , keepdims = True)\n",
    "\n",
    "def Relu (x):\n",
    "    return np.maximum(0 , x)\n",
    "\n",
    "def tanh(x):\n",
    "    return np.tanh(x)\n"
   ]
  },
  {
   "cell_type": "markdown",
   "id": "fdefaa4f",
   "metadata": {},
   "source": [
    "### ***Loss Function***"
   ]
  },
  {
   "cell_type": "code",
   "execution_count": 3,
   "id": "b770053e",
   "metadata": {},
   "outputs": [],
   "source": [
    "def MSE(y_true , y_predicted):\n",
    "    return np.mean((y_true - y_predicted) ** 2 )\n",
    "\n",
    "\n",
    "def MAE(y_true , y_predicted):\n",
    "    return np.mean(np.abs(y_true - y_predicted))\n",
    "\n",
    "def cross_entropy(y_true , y_predicted , eps = 1e-15):\n",
    "    y_predicted = np.clip(y_predicted , eps , 1-eps) \n",
    "    #because if the y_pred =0 log(0) = undefined , y_pred = 1 log(1-1) -> undefined do adding eps will prevent the undefined error\n",
    "    return -np.mean(y_true*np.log(y_predicted) + (1- y_true)*np.log(1-y_predicted))\n"
   ]
  },
  {
   "cell_type": "markdown",
   "id": "79ee8523",
   "metadata": {},
   "source": [
    "## ***Feed Forward***"
   ]
  },
  {
   "cell_type": "code",
   "execution_count": 14,
   "id": "84f6bbc5",
   "metadata": {},
   "outputs": [],
   "source": [
    "#model input \n",
    "x = np.array([[1 ,1]])\n",
    "y = np.array([[0]])"
   ]
  },
  {
   "cell_type": "code",
   "execution_count": 13,
   "id": "d353f3c4",
   "metadata": {},
   "outputs": [],
   "source": [
    "np.random.seed(42)\n",
    "\n",
    "n_features = 2\n",
    "n_class = 1\n",
    "n_hidden = 4\n",
    "\n",
    "#Intializing weights \n",
    "weights = [\n",
    "    np.random.rand(n_features , n_hidden),\n",
    "    np.random.rand(n_hidden), #bias for the first hidden layer \n",
    "    np.random.rand(n_hidden , n_class),\n",
    "    np.random.rand(n_class)\n",
    "    ]"
   ]
  },
  {
   "cell_type": "code",
   "execution_count": 19,
   "id": "379509e2",
   "metadata": {},
   "outputs": [
    {
     "name": "stdout",
     "output_type": "stream",
     "text": [
      "(array([[1.41078806]]), 1.990322946150413)\n"
     ]
    }
   ],
   "source": [
    "#feed forward propagation\n",
    "def feed_forward (x , y , weights):\n",
    "    pre_hidden = np.dot(x , weights[0])+weights[1]\n",
    "    hidden = sigmoid(pre_hidden)\n",
    "    out = np.dot(hidden, weights[2])+weights[3]\n",
    "    y_pred = Relu(out)\n",
    "\n",
    "    cost_or_loss = MSE(y  , y_pred)\n",
    "    return y_pred , cost_or_loss \n",
    "\n",
    " \n",
    "print(feed_forward(x , y, weights))"
   ]
  },
  {
   "cell_type": "code",
   "execution_count": null,
   "id": "3bbde9ea",
   "metadata": {},
   "outputs": [],
   "source": []
  }
 ],
 "metadata": {
  "kernelspec": {
   "display_name": "Python 3",
   "language": "python",
   "name": "python3"
  },
  "language_info": {
   "codemirror_mode": {
    "name": "ipython",
    "version": 3
   },
   "file_extension": ".py",
   "mimetype": "text/x-python",
   "name": "python",
   "nbconvert_exporter": "python",
   "pygments_lexer": "ipython3",
   "version": "3.12.2"
  }
 },
 "nbformat": 4,
 "nbformat_minor": 5
}
